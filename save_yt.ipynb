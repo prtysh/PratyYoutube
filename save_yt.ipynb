{
 "cells": [
  {
   "cell_type": "code",
   "execution_count": 26,
   "metadata": {},
   "outputs": [],
   "source": [
    "from bs4 import BeautifulSoup as bs\n",
    "import requests\n",
    "\n",
    "from pytube import YouTube\n",
    "import time\n",
    "\n",
    "import urllib.request\n",
    "import urllib.parse\n",
    "import urllib.error\n",
    "from bs4 import BeautifulSoup\n",
    "import ssl\n",
    "import json\n",
    "import ast\n",
    "import json\n",
    "import os\n",
    "from urllib.request import Request, urlopen\n",
    "\n"
   ]
  },
  {
   "cell_type": "code",
   "execution_count": 27,
   "metadata": {},
   "outputs": [
    {
     "data": {
      "text/plain": [
       "['https://www.youtube.com/watch?v=zxG4PgMy1KU',\n",
       " 'https://www.youtube.com/watch?v=trryp3FsrII',\n",
       " 'https://www.youtube.com/watch?v=zxG4PgMy1KU']"
      ]
     },
     "execution_count": 27,
     "metadata": {},
     "output_type": "execute_result"
    }
   ],
   "source": [
    "# initialize search strings here\n",
    "qstrings = [\"red\", \"green\"]\n",
    "\n",
    "#initialize request lists\n",
    "base = \"https://www.youtube.com/results?search_query=\"\n",
    "\n",
    "rList = []\n",
    "for i in qstrings:\n",
    "  rList.append(requests.get(base+i))\n",
    "\n",
    "soups=[]\n",
    "for i in rList:\n",
    "  soups.append(bs(i.text,'html.parser'))\n",
    "\n",
    "allvids = []\n",
    "for i in soups:\n",
    "  allvids.append(i.findAll('a',attrs={'class':'yt-uix-tile-link'}))\n",
    "\n",
    "flat_vids = []\n",
    "for sublist in allvids:\n",
    "    for item in sublist:\n",
    "        flat_vids.append(item)\n",
    "\n",
    "# final list of video links here\n",
    "urllist = []\n",
    "for v in flat_vids:\n",
    "  tmp = 'https://www.youtube.com' + v['href']\n",
    "  urllist.append(tmp)\n",
    "\n",
    "\n",
    "\n",
    "def sublists(a, tolerance):\n",
    "    result = []\n",
    "    index = 0\n",
    "\n",
    "    while index < len(a):\n",
    "        curr = a[index]\n",
    "\n",
    "        for i in range(index, len(a)):\n",
    "            if a[i] == curr:\n",
    "                end = i\n",
    "            elif i - end > tolerance:\n",
    "                break\n",
    "\n",
    "        if index != end:\n",
    "            result.append(a[index:end+1])\n",
    "        index += end - index + 1\n",
    "\n",
    "    return result\n",
    "\n",
    "urllist = sublists(urllist, 6)\n",
    "flattened = []\n",
    "for sublist in urllist:\n",
    "    for val in sublist:\n",
    "        flattened.append(val)\n",
    "urllist = flattened\n",
    "urllist"
   ]
  },
  {
   "cell_type": "code",
   "execution_count": 28,
   "metadata": {},
   "outputs": [],
   "source": [
    "# For ignoring SSL certificate errors\n",
    "\n",
    "ctx = ssl.create_default_context()\n",
    "ctx.check_hostname = False\n",
    "ctx.verify_mode = ssl.CERT_NONE\n",
    "\n"
   ]
  },
  {
   "cell_type": "code",
   "execution_count": 29,
   "metadata": {},
   "outputs": [
    {
     "ename": "RegexMatchError",
     "evalue": "regex pattern (\"sts\"\\s*:\\s*(\\d+)) had zero matches",
     "output_type": "error",
     "traceback": [
      "\u001b[0;31m---------------------------------------------------------------------------\u001b[0m",
      "\u001b[0;31mRegexMatchError\u001b[0m                           Traceback (most recent call last)",
      "\u001b[0;32m<ipython-input-29-ea0779392cc6>\u001b[0m in \u001b[0;36m<module>\u001b[0;34m\u001b[0m\n\u001b[1;32m      3\u001b[0m \u001b[0murllist\u001b[0m\u001b[0;34m[\u001b[0m\u001b[0;36m1\u001b[0m\u001b[0;34m]\u001b[0m\u001b[0;34m\u001b[0m\u001b[0;34m\u001b[0m\u001b[0m\n\u001b[1;32m      4\u001b[0m \u001b[0;31m#YouTube(urllist[1]).player_config_args['player_response']['videoDetails']['lengthSeconds']\u001b[0m\u001b[0;34m\u001b[0m\u001b[0;34m\u001b[0m\u001b[0;34m\u001b[0m\u001b[0m\n\u001b[0;32m----> 5\u001b[0;31m \u001b[0mYouTube\u001b[0m\u001b[0;34m(\u001b[0m\u001b[0murllist\u001b[0m\u001b[0;34m[\u001b[0m\u001b[0;36m1\u001b[0m\u001b[0;34m]\u001b[0m \u001b[0;34m+\u001b[0m \u001b[0;34m\" -4\"\u001b[0m\u001b[0;34m)\u001b[0m\u001b[0;34m\u001b[0m\u001b[0;34m\u001b[0m\u001b[0m\n\u001b[0m",
      "\u001b[0;32m~/Documents/python_envs/yt_data/lib/python3.7/site-packages/pytube/__main__.py\u001b[0m in \u001b[0;36m__init__\u001b[0;34m(self, url, defer_prefetch_init, on_progress_callback, on_complete_callback, proxies)\u001b[0m\n\u001b[1;32m     86\u001b[0m \u001b[0;34m\u001b[0m\u001b[0m\n\u001b[1;32m     87\u001b[0m         \u001b[0;32mif\u001b[0m \u001b[0;32mnot\u001b[0m \u001b[0mdefer_prefetch_init\u001b[0m\u001b[0;34m:\u001b[0m\u001b[0;34m\u001b[0m\u001b[0;34m\u001b[0m\u001b[0m\n\u001b[0;32m---> 88\u001b[0;31m             \u001b[0mself\u001b[0m\u001b[0;34m.\u001b[0m\u001b[0mprefetch_init\u001b[0m\u001b[0;34m(\u001b[0m\u001b[0;34m)\u001b[0m\u001b[0;34m\u001b[0m\u001b[0;34m\u001b[0m\u001b[0m\n\u001b[0m\u001b[1;32m     89\u001b[0m \u001b[0;34m\u001b[0m\u001b[0m\n\u001b[1;32m     90\u001b[0m     \u001b[0;32mdef\u001b[0m \u001b[0mprefetch_init\u001b[0m\u001b[0;34m(\u001b[0m\u001b[0mself\u001b[0m\u001b[0;34m)\u001b[0m\u001b[0;34m:\u001b[0m\u001b[0;34m\u001b[0m\u001b[0;34m\u001b[0m\u001b[0m\n",
      "\u001b[0;32m~/Documents/python_envs/yt_data/lib/python3.7/site-packages/pytube/__main__.py\u001b[0m in \u001b[0;36mprefetch_init\u001b[0;34m(self)\u001b[0m\n\u001b[1;32m     94\u001b[0m \u001b[0;34m\u001b[0m\u001b[0m\n\u001b[1;32m     95\u001b[0m         \"\"\"\n\u001b[0;32m---> 96\u001b[0;31m         \u001b[0mself\u001b[0m\u001b[0;34m.\u001b[0m\u001b[0mprefetch\u001b[0m\u001b[0;34m(\u001b[0m\u001b[0;34m)\u001b[0m\u001b[0;34m\u001b[0m\u001b[0;34m\u001b[0m\u001b[0m\n\u001b[0m\u001b[1;32m     97\u001b[0m         \u001b[0mself\u001b[0m\u001b[0;34m.\u001b[0m\u001b[0minit\u001b[0m\u001b[0;34m(\u001b[0m\u001b[0;34m)\u001b[0m\u001b[0;34m\u001b[0m\u001b[0;34m\u001b[0m\u001b[0m\n\u001b[1;32m     98\u001b[0m \u001b[0;34m\u001b[0m\u001b[0m\n",
      "\u001b[0;32m~/Documents/python_envs/yt_data/lib/python3.7/site-packages/pytube/__main__.py\u001b[0m in \u001b[0;36mprefetch\u001b[0;34m(self)\u001b[0m\n\u001b[1;32m    168\u001b[0m             \u001b[0mwatch_html\u001b[0m\u001b[0;34m=\u001b[0m\u001b[0mself\u001b[0m\u001b[0;34m.\u001b[0m\u001b[0mwatch_html\u001b[0m\u001b[0;34m,\u001b[0m\u001b[0;34m\u001b[0m\u001b[0;34m\u001b[0m\u001b[0m\n\u001b[1;32m    169\u001b[0m             \u001b[0membed_html\u001b[0m\u001b[0;34m=\u001b[0m\u001b[0mself\u001b[0m\u001b[0;34m.\u001b[0m\u001b[0membed_html\u001b[0m\u001b[0;34m,\u001b[0m\u001b[0;34m\u001b[0m\u001b[0;34m\u001b[0m\u001b[0m\n\u001b[0;32m--> 170\u001b[0;31m             \u001b[0mage_restricted\u001b[0m\u001b[0;34m=\u001b[0m\u001b[0mself\u001b[0m\u001b[0;34m.\u001b[0m\u001b[0mage_restricted\u001b[0m\u001b[0;34m,\u001b[0m\u001b[0;34m\u001b[0m\u001b[0;34m\u001b[0m\u001b[0m\n\u001b[0m\u001b[1;32m    171\u001b[0m         )\n\u001b[1;32m    172\u001b[0m         \u001b[0mself\u001b[0m\u001b[0;34m.\u001b[0m\u001b[0mvid_info\u001b[0m \u001b[0;34m=\u001b[0m \u001b[0mrequest\u001b[0m\u001b[0;34m.\u001b[0m\u001b[0mget\u001b[0m\u001b[0;34m(\u001b[0m\u001b[0mself\u001b[0m\u001b[0;34m.\u001b[0m\u001b[0mvid_info_url\u001b[0m\u001b[0;34m)\u001b[0m\u001b[0;34m\u001b[0m\u001b[0;34m\u001b[0m\u001b[0m\n",
      "\u001b[0;32m~/Documents/python_envs/yt_data/lib/python3.7/site-packages/pytube/extract.py\u001b[0m in \u001b[0;36mvideo_info_url\u001b[0;34m(video_id, watch_url, watch_html, embed_html, age_restricted)\u001b[0m\n\u001b[1;32m    114\u001b[0m     \"\"\"\n\u001b[1;32m    115\u001b[0m     \u001b[0;32mif\u001b[0m \u001b[0mage_restricted\u001b[0m\u001b[0;34m:\u001b[0m\u001b[0;34m\u001b[0m\u001b[0;34m\u001b[0m\u001b[0m\n\u001b[0;32m--> 116\u001b[0;31m         \u001b[0msts\u001b[0m \u001b[0;34m=\u001b[0m \u001b[0mregex_search\u001b[0m\u001b[0;34m(\u001b[0m\u001b[0;34mr'\"sts\"\\s*:\\s*(\\d+)'\u001b[0m\u001b[0;34m,\u001b[0m \u001b[0membed_html\u001b[0m\u001b[0;34m,\u001b[0m \u001b[0mgroup\u001b[0m\u001b[0;34m=\u001b[0m\u001b[0;36m1\u001b[0m\u001b[0;34m)\u001b[0m\u001b[0;34m\u001b[0m\u001b[0;34m\u001b[0m\u001b[0m\n\u001b[0m\u001b[1;32m    117\u001b[0m         \u001b[0;31m# Here we use ``OrderedDict`` so that the output is consistent between\u001b[0m\u001b[0;34m\u001b[0m\u001b[0;34m\u001b[0m\u001b[0;34m\u001b[0m\u001b[0m\n\u001b[1;32m    118\u001b[0m         \u001b[0;31m# Python 2.7+.\u001b[0m\u001b[0;34m\u001b[0m\u001b[0;34m\u001b[0m\u001b[0;34m\u001b[0m\u001b[0m\n",
      "\u001b[0;32m~/Documents/python_envs/yt_data/lib/python3.7/site-packages/pytube/helpers.py\u001b[0m in \u001b[0;36mregex_search\u001b[0;34m(pattern, string, groups, group, flags)\u001b[0m\n\u001b[1;32m     63\u001b[0m             raise RegexMatchError(\n\u001b[1;32m     64\u001b[0m                 \u001b[0;34m'regex pattern ({pattern}) had zero matches'\u001b[0m\u001b[0;34m\u001b[0m\u001b[0;34m\u001b[0m\u001b[0m\n\u001b[0;32m---> 65\u001b[0;31m                 \u001b[0;34m.\u001b[0m\u001b[0mformat\u001b[0m\u001b[0;34m(\u001b[0m\u001b[0mpattern\u001b[0m\u001b[0;34m=\u001b[0m\u001b[0mpattern\u001b[0m\u001b[0;34m)\u001b[0m\u001b[0;34m,\u001b[0m\u001b[0;34m\u001b[0m\u001b[0;34m\u001b[0m\u001b[0m\n\u001b[0m\u001b[1;32m     66\u001b[0m             )\n\u001b[1;32m     67\u001b[0m         \u001b[0;32melse\u001b[0m\u001b[0;34m:\u001b[0m\u001b[0;34m\u001b[0m\u001b[0;34m\u001b[0m\u001b[0m\n",
      "\u001b[0;31mRegexMatchError\u001b[0m: regex pattern (\"sts\"\\s*:\\s*(\\d+)) had zero matches"
     ]
    }
   ],
   "source": [
    "video_dic = []\n",
    "id = 1\n",
    "urllist[1]\n",
    "#YouTube(urllist[1]).player_config_args['player_response']['videoDetails']['lengthSeconds']\n",
    "YouTube(urllist[1] + \" -4\")"
   ]
  },
  {
   "cell_type": "code",
   "execution_count": 18,
   "metadata": {},
   "outputs": [],
   "source": [
    "def fetch_video_details(url,id,description):\n",
    "    req = Request(url, headers={'User-Agent': 'Mozilla/5.0'})\n",
    "    webpage = urlopen(req).read()\n",
    "    soup = BeautifulSoup(webpage, 'html.parser')\n",
    "    html = soup.prettify('utf-8')\n",
    "#     prefix = \"Praty test\"\n",
    "    video_details = {}\n",
    "\n",
    "    video_details['ID'] = id\n",
    "    for span in soup.findAll('span',attrs={'class': 'watch-title'}):\n",
    "        video_details['TITLE'] = span.text.strip()\n",
    "\n",
    "    for script in soup.findAll('script',attrs={'type': 'application/ld+json'}):\n",
    "            channelDesctiption = json.loads(script.text.strip())\n",
    "            video_details['CHANNEL_NAME'] = channelDesctiption['itemListElement'][0]['item']['name']\n",
    "\n",
    "    for div in soup.findAll('div',attrs={'class': 'watch-view-count'}):\n",
    "        video_details['NUMBER_OF_VIEWS'] = div.text.strip()\n",
    "\n",
    "    for button in soup.findAll('button',attrs={'title': 'I like this'}):\n",
    "        video_details['LIKES'] = button.text.strip()\n",
    "\n",
    "    for button in soup.findAll('button',attrs={'title': 'I dislike this'}):\n",
    "        video_details['DISLIKES'] = button.text.strip()\n",
    "\n",
    "    for span in soup.findAll('span',attrs={'class': 'yt-subscription-button-subscriber-count-branded-horizontal yt-subscriber-count'}):\n",
    "        video_details['NUMBER_OF_SUBSCRIPTIONS'] = span.text.strip()\n",
    "    video_details['DESCRIPTION'] = description\n",
    "    hashtags = []\n",
    "    # for span in soup.findAll('span',attrs={'class': 'standalone-collection-badge-renderer-text'}):\n",
    "    #     for a in span.findAll('a',attrs={'class': 'yt-uix-sessionlink'}):\n",
    "    #         hashtags.append(a.text.strip())\n",
    "    hashtags = soup.find(\"meta\", {\"name\":\"keywords\"})['content']\n",
    "    video_details['HASH_TAGS'] = hashtags\n",
    "    \n",
    "    \n",
    "    # print(hashtags)\n",
    "   \n",
    "    return(video_details)"
   ]
  },
  {
   "cell_type": "code",
   "execution_count": 6,
   "metadata": {},
   "outputs": [],
   "source": [
    "def download_video(url,prefix):\n",
    "    urlForYt = url + \" -4\"\n",
    "    yt = YouTube(urlForYt)\n",
    "    videoList = yt.streams.filter(res='360p',mime_type='video/mp4',only_video=True).first()\n",
    "    print(videoList)\n",
    "\n",
    "    yt.streams.filter(res='360p',mime_type='video/mp4',only_video=True).first().download(filename_prefix=prefix)\n",
    "    print(url + \" downloaded\")\n",
    "    return(yt.description)"
   ]
  },
  {
   "cell_type": "code",
   "execution_count": 21,
   "metadata": {},
   "outputs": [
    {
     "name": "stdout",
     "output_type": "stream",
     "text": [
      "https://www.youtube.com/watch?v=zxG4PgMy1KU\n",
      "failed\n",
      "https://www.youtube.com/watch?v=trryp3FsrII\n",
      "failed\n",
      "https://www.youtube.com/watch?v=zxG4PgMy1KU\n",
      "failed\n"
     ]
    }
   ],
   "source": [
    "id = 1\n",
    "for i in urllist:\n",
    "    try:\n",
    "        #url = i + \" -4\"\n",
    "        url = i\n",
    "        print(url)\n",
    "        yt = YouTube(url)\n",
    "        desc = yt.description\n",
    "        print(desc)\n",
    "        if 10 < yt.player_config_args['player_response']['videoDetails']['lengthSeconds'] < 600:\n",
    "        #   fetch_video_details(i)\n",
    "            prefix=str(id) + \"_\"\n",
    "            print(\"==============downloading video ==========\")\n",
    "            desc = yt.description\n",
    "            yt.streams.filter(res='360p',mime_type='video/mp4',only_video=True).first().download(filename_prefix=prefix)\n",
    "            video_details = fetch_video_details(i,prefix,desc)\n",
    "            print(video_details)\n",
    "            time.sleep(15)\n",
    "\n",
    "            id = id + 1\n",
    "            video_dic.append(video_details)\n",
    "    except:\n",
    "        print(\"failed\")\n",
    "        time.sleep(5)\n",
    "        pass\n"
   ]
  },
  {
   "cell_type": "code",
   "execution_count": null,
   "metadata": {},
   "outputs": [],
   "source": [
    "with open('data.json', 'w', encoding='utf8') as outfile:\n",
    "    json.dump(video_dic, outfile, ensure_ascii=False,indent=4)"
   ]
  }
 ],
 "metadata": {
  "kernelspec": {
   "display_name": "Python 3",
   "language": "python",
   "name": "python3"
  },
  "language_info": {
   "codemirror_mode": {
    "name": "ipython",
    "version": 3
   },
   "file_extension": ".py",
   "mimetype": "text/x-python",
   "name": "python",
   "nbconvert_exporter": "python",
   "pygments_lexer": "ipython3",
   "version": "3.7.4"
  }
 },
 "nbformat": 4,
 "nbformat_minor": 2
}
